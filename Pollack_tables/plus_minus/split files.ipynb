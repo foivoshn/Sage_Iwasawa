{
 "cells": [
  {
   "cell_type": "code",
   "execution_count": 2,
   "id": "d6b60009-6043-4cfa-9c0f-c4cdcf14b040",
   "metadata": {},
   "outputs": [
    {
     "name": "stdout",
     "output_type": "stream",
     "text": [
      "/home/foivos/Sage/Pollack_tables/plus_minus\n"
     ]
    }
   ],
   "source": [
    "!pwd\n"
   ]
  },
  {
   "cell_type": "code",
   "execution_count": 7,
   "id": "460f20a9-c384-411d-98a5-2b8b294add69",
   "metadata": {},
   "outputs": [],
   "source": [
    "import pandas as pd\n",
    "import csv\n",
    "\n",
    "p = 11\n",
    "file_path = f\"../{p}_lam_not_1_df.csv\"\n",
    "\n",
    "# Columns you want to keep, parameterized by p\n",
    "columns_to_keep = [\n",
    "    \"Conductor\",\n",
    "    \"Rank\",\n",
    "    f\"mu_{p}\",\n",
    "    f\"lam_{p}\",\n",
    "    f\"lam_{p}_MW\"\n",
    "]\n",
    "\n",
    "df = pd.read_csv(file_path, usecols=columns_to_keep)\n",
    "\n",
    "lam_series = df.groupby(\"Conductor\")[f\"lam_{p}\"].agg(list)\n",
    "\n",
    "# Indices where the first (i.e., plus) value is > 1\n",
    "plus_cond = lam_series[lam_series.apply(lambda vals: vals[0] > 1)].index\n",
    "\n",
    "# Indices where the second (i.e., minus) value is > 1\n",
    "minus_cond = lam_series[lam_series.apply(lambda vals: len(vals) > 1 and vals[1] > 1)].index\n",
    "\n",
    "# Subset of the DataFrame containing *both rows* for those conductors with lam_5^+ > 1\n",
    "df_plus_bigger_one = df[df[\"Conductor\"].isin(plus_cond)]\n",
    "plus_name = f\"lam_{p}_plus_big.csv\"\n",
    "df_plus_bigger_one.to_csv(plus_name, index=False)\n",
    "\n",
    "# Subset of the DataFrame containing *both rows* for those conductors with lam_5^- > 1\n",
    "df_minus_bigger_one = df[df[\"Conductor\"].isin(minus_cond)]\n",
    "minus_name = f\"lam_{p}_minus_big.csv\"\n",
    "df_minus_bigger_one.to_csv(minus_name, index=False)\n",
    "\n",
    "# Subset of the DataFrame containing *both rows* for those conductors with BOTH lam_5^+ > 1 and lam_5^- > 1\n",
    "plus_and_minus_cond = lam_series[lam_series.apply(lambda vals: vals[0] > 1 and len(vals) > 1 and vals[1] > 1)].index\n",
    "df_plus_and_minus_bigger_one = df[df[\"Conductor\"].isin(plus_and_minus_cond)]\n",
    "plus_and_minus_name = f\"lam_{p}_plus_and_minus_big.csv\"\n",
    "df_plus_and_minus_bigger_one.to_csv(plus_and_minus_name, index=False)\n"
   ]
  },
  {
   "cell_type": "code",
   "execution_count": 5,
   "id": "be17a6bc-2d49-4655-a92c-6895169fd83c",
   "metadata": {},
   "outputs": [],
   "source": [
    "import pandas as pd\n",
    "import csv\n",
    "\n",
    "p = 11\n",
    "file_path = f\"../{p}_lam_1_df.csv\"\n",
    "\n",
    "# Columns you want to keep, parameterized by p\n",
    "columns_to_keep = [\n",
    "    \"Conductor\",\n",
    "    \"Rank\",\n",
    "    f\"mu_{p}\",\n",
    "    f\"lam_{p}\",\n",
    "    f\"lam_{p}_MW\"\n",
    "]\n",
    "\n",
    "df = pd.read_csv(file_path, usecols=columns_to_keep)\n",
    "name=f\"lam_{p}_equals_1.csv\"\n",
    "df.to_csv(name,index=False)"
   ]
  },
  {
   "cell_type": "code",
   "execution_count": 7,
   "id": "8a7e31a1-8b25-4a6b-9063-641567137efa",
   "metadata": {},
   "outputs": [
    {
     "data": {
      "text/html": [
       "<div>\n",
       "<style scoped>\n",
       "    .dataframe tbody tr th:only-of-type {\n",
       "        vertical-align: middle;\n",
       "    }\n",
       "\n",
       "    .dataframe tbody tr th {\n",
       "        vertical-align: top;\n",
       "    }\n",
       "\n",
       "    .dataframe thead th {\n",
       "        text-align: right;\n",
       "    }\n",
       "</style>\n",
       "<table border=\"1\" class=\"dataframe\">\n",
       "  <thead>\n",
       "    <tr style=\"text-align: right;\">\n",
       "      <th></th>\n",
       "      <th>p</th>\n",
       "      <th>lam+- =1</th>\n",
       "      <th>lam+&gt;1</th>\n",
       "      <th>lam-&gt;1</th>\n",
       "      <th>lam+ and lam-&gt;1</th>\n",
       "    </tr>\n",
       "  </thead>\n",
       "  <tbody>\n",
       "    <tr>\n",
       "      <th>0</th>\n",
       "      <td>5</td>\n",
       "      <td>219</td>\n",
       "      <td>72</td>\n",
       "      <td>68</td>\n",
       "      <td>8</td>\n",
       "    </tr>\n",
       "    <tr>\n",
       "      <th>1</th>\n",
       "      <td>7</td>\n",
       "      <td>203</td>\n",
       "      <td>33</td>\n",
       "      <td>38</td>\n",
       "      <td>1</td>\n",
       "    </tr>\n",
       "    <tr>\n",
       "      <th>2</th>\n",
       "      <td>11</td>\n",
       "      <td>306</td>\n",
       "      <td>31</td>\n",
       "      <td>35</td>\n",
       "      <td>1</td>\n",
       "    </tr>\n",
       "  </tbody>\n",
       "</table>\n",
       "</div>"
      ],
      "text/plain": [
       "    p  lam+- =1  lam+>1  lam->1  lam+ and lam->1\n",
       "0   5       219      72      68                8\n",
       "1   7       203      33      38                1\n",
       "2  11       306      31      35                1"
      ]
     },
     "execution_count": 7,
     "metadata": {},
     "output_type": "execute_result"
    }
   ],
   "source": [
    "\n",
    "primes = [5, 7, 11]\n",
    "\n",
    "results = []\n",
    "\n",
    "for p in primes:\n",
    "    # Construct file names\n",
    "    plus_file = f\"lam_{p}_plus_big.csv\"\n",
    "    minus_file = f\"lam_{p}_minus_big.csv\"\n",
    "    plus_and_minus_file = f\"lam_{p}_plus_and_minus_big.csv\"\n",
    "    equals_1_file=f\"lam_{p}_equals_1.csv\"\n",
    "    \n",
    "    # Read each file into a DataFrame\n",
    "    plus_df = pd.read_csv(plus_file)\n",
    "    minus_df = pd.read_csv(minus_file)\n",
    "    plus_and_minus_df = pd.read_csv(plus_and_minus_file)\n",
    "    equals_1_df=pd.read_csv(equals_1_file)\n",
    "    \n",
    "    # Count distinct conductors\n",
    "    plus_count = plus_df[\"Conductor\"].nunique()\n",
    "    minus_count = minus_df[\"Conductor\"].nunique()\n",
    "    plus_and_minus_count = plus_and_minus_df[\"Conductor\"].nunique()\n",
    "    equals_1_count=equals_1_df[\"Conductor\"].nunique()\n",
    "    \n",
    "    # Save the counts in a list\n",
    "    results.append({\n",
    "        \"p\": p,\n",
    "        \"lam+- =1\": equals_1_count,\n",
    "        \"lam+>1\": plus_count,\n",
    "        \"lam->1\": minus_count,\n",
    "        \"lam+ and lam->1\": plus_and_minus_count\n",
    "    })\n",
    "\n",
    "# Create a DataFrame from the results\n",
    "results_df = pd.DataFrame(results)\n",
    "\n",
    "results_df.head()\n"
   ]
  },
  {
   "cell_type": "markdown",
   "id": "6bfafb30-f721-487a-b685-b10573397359",
   "metadata": {},
   "source": [
    "# Computations "
   ]
  },
  {
   "cell_type": "code",
   "execution_count": 17,
   "id": "3e2f20d7-8826-4cb5-bc35-77913a4b47da",
   "metadata": {},
   "outputs": [],
   "source": [
    "import pandas as pd \n",
    "\n",
    "p=5\n",
    "def ell_list(conductor_list):\n",
    "    return [EllipticCurve(a) for a in conductor_list]\n",
    "\n",
    "\n",
    "plus_path = f\"lam_{p}_plus_big.csv\"\n",
    "minus_path=f\"lam_{p}_minus_big.csv\"\n",
    "\n",
    "# Read only the 'Conductor' column, drop NaNs, extract unique values\n",
    "df_plus = pd.read_csv(plus_path, usecols=[\"Conductor\"]).dropna()\n",
    "my_list_plus = df_plus[\"Conductor\"].unique().tolist()\n",
    "\n",
    "df_minus = pd.read_csv(minus_path, usecols=[\"Conductor\"]).dropna()\n",
    "my_list_minus = df_minus[\"Conductor\"].unique().tolist()\n",
    "\n",
    "# Create the list of EllipticCurve objects\n",
    "ELL_plus = ell_list(my_list_plus)\n",
    "ELL_minus = ell_list(my_list_minus)"
   ]
  },
  {
   "cell_type": "code",
   "execution_count": 22,
   "id": "8be2f53e-dc01-4131-b4f9-fefcaaa2e308",
   "metadata": {},
   "outputs": [],
   "source": [
    "def phi(E,p):\n",
    "    Lp=E.padic_lseries(p)\n",
    "    phi = Lp.frobenius(prec=5, algorithm=\"mw\")\n",
    "    return(phi)\n",
    "    \n",
    "def manual_reg(E,p):\n",
    "    R1=old_valued_regulator(E,p)\n",
    "    A=R1[0]\n",
    "    B=R1[1]\n",
    "    Phi=phi(E,p)\n",
    "    a=Phi[0,0]\n",
    "    c=Phi[1,0]\n",
    "    b=Phi[0,1]\n",
    "    d=Phi[1,1]\n",
    "    return([A-a*B/c,B/c])\n",
    "    \n",
    "def Lp_series(E,p,prec=6):\n",
    "    L=E.padic_lseries(p)\n",
    "    lps = L.series(n=5, prec=6)\n",
    "    R = lps.base_ring().base_ring()  # Qp\n",
    "    QpT, T = PowerSeriesRing(R, 'T', 6).objgen()\n",
    "    Gli = []\n",
    "    Hli = []\n",
    "    for n in range(lps.prec()):\n",
    "        v = L._poly(lps[n])\n",
    "        Gli.append(v[0])\n",
    "        Hli.append(v[1])\n",
    "    G = QpT(Gli, prec=6)\n",
    "    H = QpT(Hli, prec=6)\n",
    "    return([G,H])"
   ]
  },
  {
   "cell_type": "code",
   "execution_count": 100,
   "id": "d7a47e5d-6c6c-4396-896c-e7d2bbbfb2f8",
   "metadata": {},
   "outputs": [],
   "source": [
    "results_plus = {}\n",
    "for E in ELL_plus:\n",
    "    L = E.padic_lseries(p)\n",
    "    L1 = L.Dp_valued_series(n=6, prec=6)\n",
    "    Phi = phi(E, p)\n",
    "    L_1_original = (1 - Phi)**2 * L1\n",
    "    new_reg = E.padic_regulator(p) % p^6\n",
    "    Tam = E.tamagawa_product()\n",
    "    G, H = Lp_series(L, p)\n",
    "    results_plus[E.label()] = {\n",
    "        \"Lp_old\": L_1_original,\n",
    "        \"Lp_new\": L1,\n",
    "        \"Reg_p\": new_reg,\n",
    "        \"Tam(E)\": Tam,\n",
    "        \"G\": G\n",
    "    }\n",
    "\n",
    "df_plus_bigger_one = df_plus_bigger_one.copy()\n",
    "df_plus_bigger_one.loc[:, \"Lp_old\"] = df_plus_bigger_one[\"Conductor\"].map(lambda c: results_plus[c][\"Lp_old\"])\n",
    "df_plus_bigger_one.loc[:, \"Lp_new\"] = df_plus_bigger_one[\"Conductor\"].map(lambda c: results_plus[c][\"Lp_new\"])\n",
    "df_plus_bigger_one.loc[:, \"Reg_p\"]  = df_plus_bigger_one[\"Conductor\"].map(lambda c: results_plus[c][\"Reg_p\"])\n",
    "df_plus_bigger_one.loc[:, \"Tam(E)\"] = df_plus_bigger_one[\"Conductor\"].map(lambda c: results_plus[c][\"Tam(E)\"])\n",
    "df_plus_bigger_one.loc[:, \"G\"]      = df_plus_bigger_one[\"Conductor\"].map(lambda c: results_plus[c][\"G\"])\n",
    "df_plus_bigger_one.to_csv(plus_name, index=False)\n",
    "\n",
    "results_minus = {}\n",
    "for E in ELL_minus:\n",
    "    L = E.padic_lseries(p)\n",
    "    L1 = L.Dp_valued_series(n=6, prec=6)\n",
    "    Phi = phi(E, p)\n",
    "    L_1_original = (1 - Phi)**2 * L1\n",
    "    new_reg = E.padic_regulator(p) % p^6\n",
    "    Tam = E.tamagawa_product()\n",
    "    G, H = Lp_series(L, p)\n",
    "    results_minus[E.label()] = {\n",
    "        \"Lp_old\": L_1_original,\n",
    "        \"Lp_new\": L1,\n",
    "        \"Reg_p\": new_reg,\n",
    "        \"Tam(E)\": Tam,\n",
    "        \"H\": H\n",
    "    }\n",
    "\n",
    "df_minus_bigger_one = df_minus_bigger_one.copy()\n",
    "df_minus_bigger_one.loc[:, \"Lp_old\"] = df_minus_bigger_one[\"Conductor\"].map(lambda c: results_minus[c][\"Lp_old\"])\n",
    "df_minus_bigger_one.loc[:, \"Lp_new\"] = df_minus_bigger_one[\"Conductor\"].map(lambda c: results_minus[c][\"Lp_new\"])\n",
    "df_minus_bigger_one.loc[:, \"Reg_p\"]  = df_minus_bigger_one[\"Conductor\"].map(lambda c: results_minus[c][\"Reg_p\"])\n",
    "df_minus_bigger_one.loc[:, \"Tam(E)\"] = df_minus_bigger_one[\"Conductor\"].map(lambda c: results_minus[c][\"Tam(E)\"])\n",
    "df_minus_bigger_one.loc[:, \"H\"]      = df_minus_bigger_one[\"Conductor\"].map(lambda c: results_minus[c][\"H\"])\n",
    "df_minus_bigger_one.to_csv(minus_name, index=False)\n",
    "\n"
   ]
  },
  {
   "cell_type": "markdown",
   "id": "f5bfb7fa-2ea3-4ddb-923c-3d0d843fa3da",
   "metadata": {},
   "source": [
    "# Testing"
   ]
  },
  {
   "cell_type": "code",
   "execution_count": 19,
   "id": "72022b26-0bd6-4a19-8518-05ba7fe4934f",
   "metadata": {},
   "outputs": [],
   "source": [
    "E=EllipticCurve('272a1')\n",
    "L = E.padic_lseries(p)\n",
    "L1 = L.Dp_valued_series(n=6, prec=6)\n",
    "Phi = phi(E, p)\n",
    "L1_original = (1 - Phi)**2 * L1\n",
    "new_reg = E.padic_regulator(p) % p^6\n",
    "Tam = E.tamagawa_product()"
   ]
  },
  {
   "cell_type": "code",
   "execution_count": 42,
   "id": "327572ec-5468-4131-b274-6434d3174e2c",
   "metadata": {},
   "outputs": [
    {
     "data": {
      "text/plain": [
       "((1 + 2*5 + O(5^2))*T + (3*5 + O(5^2))*T^2 + (4 + 4*5 + O(5^2))*T^3 + (1 + 4*5 + O(5^2))*T^4 + O(5)*T^5 + O(T^6), (3*5 + 3*5^2 + O(5^3))*T + (4*5^2 + O(5^3))*T^2 + (5 + 4*5^2 + O(5^3))*T^3 + (4*5 + O(5^3))*T^4 + (2*5 + O(5^2))*T^5 + O(T^6))"
      ]
     },
     "execution_count": 42,
     "metadata": {},
     "output_type": "execute_result"
    }
   ],
   "source": [
    "L1"
   ]
  },
  {
   "cell_type": "code",
   "execution_count": 45,
   "id": "e35d2802-faac-4739-b8f9-c24a22fd4be6",
   "metadata": {},
   "outputs": [
    {
     "data": {
      "text/plain": [
       "((4*5^-1 + 3 + O(5))*T + (2 + O(5))*T^2 + (5^-1 + O(5))*T^3 + (4*5^-1 + O(5))*T^4 + O(5^0)*T^5 + O(T^6), (1 + O(5^2))*T + (3*5 + O(5^2))*T^2 + (2*5 + O(5^2))*T^3 + (4*5 + O(5^2))*T^4 + (3 + O(5))*T^5 + O(T^6))"
      ]
     },
     "execution_count": 45,
     "metadata": {},
     "output_type": "execute_result"
    }
   ],
   "source": [
    "L1_original"
   ]
  },
  {
   "cell_type": "code",
   "execution_count": 78,
   "id": "391839f8-1d0e-432d-8e5f-79bdc96b4d39",
   "metadata": {},
   "outputs": [
    {
     "data": {
      "text/plain": [
       "[1 2]\n",
       "[3 4]"
      ]
     },
     "execution_count": 78,
     "metadata": {},
     "output_type": "execute_result"
    }
   ],
   "source": [
    "M=matrix([[1,2],[3,4]])\n",
    "M"
   ]
  },
  {
   "cell_type": "code",
   "execution_count": 20,
   "id": "fc7344ba-09b5-402a-8d45-dea4fcd48870",
   "metadata": {},
   "outputs": [],
   "source": [
    "lps = L.series(n=5, prec=6)\n",
    "\n",
    "# now split up the series in two lps = G + H * alpha\n",
    "R = lps.base_ring().base_ring()  # Qp\n",
    "QpT, T = PowerSeriesRing(R, 'T', 6).objgen()\n",
    "Gli = []\n",
    "Hli = []\n",
    "for n in range(lps.prec()):\n",
    "    v = L._poly(lps[n])\n",
    "    Gli.append(v[0])\n",
    "    Hli.append(v[1])\n",
    "G = QpT(Gli, prec=6)\n",
    "H = QpT(Hli, prec=6)"
   ]
  },
  {
   "cell_type": "code",
   "execution_count": 21,
   "id": "25032bc4-e168-4422-b84f-17d37f12b20b",
   "metadata": {},
   "outputs": [
    {
     "data": {
      "text/plain": [
       "(4*5^-1 + 4 + O(5))*T + (2 + O(5))*T^2 + (5^-1 + 1 + O(5))*T^3 + (4*5^-1 + 4 + O(5))*T^4 + O(T^6)"
      ]
     },
     "execution_count": 21,
     "metadata": {},
     "output_type": "execute_result"
    }
   ],
   "source": [
    "G"
   ]
  },
  {
   "cell_type": "code",
   "execution_count": 63,
   "id": "0f07abca-b165-4d2e-8e46-7d5b937e9824",
   "metadata": {},
   "outputs": [
    {
     "data": {
      "text/plain": [
       "[(4*5^-1 + 4 + O(5))*T + (2 + O(5))*T^2 + (5^-1 + 1 + O(5))*T^3 + (4*5^-1 + 4 + O(5))*T^4 + O(T^6),\n",
       " (1 + O(5))*T + O(5)*T^2 + (4*5^-1 + 1 + O(5))*T^3 + (5^-1 + O(5))*T^4 + O(T^6)]"
      ]
     },
     "execution_count": 63,
     "metadata": {},
     "output_type": "execute_result"
    }
   ],
   "source": [
    "Lp_series(L,p)"
   ]
  },
  {
   "cell_type": "code",
   "execution_count": 65,
   "id": "fc1957f7-a0fd-41c2-97ea-7a04cc72a8bb",
   "metadata": {},
   "outputs": [],
   "source": [
    "G,H=Lp_series(L,p)"
   ]
  },
  {
   "cell_type": "code",
   "execution_count": 66,
   "id": "4f504358-01fd-4cab-80a7-914afcaa0176",
   "metadata": {},
   "outputs": [
    {
     "data": {
      "text/plain": [
       "(4*5^-1 + 4 + O(5))*T + (2 + O(5))*T^2 + (5^-1 + 1 + O(5))*T^3 + (4*5^-1 + 4 + O(5))*T^4 + O(T^6)"
      ]
     },
     "execution_count": 66,
     "metadata": {},
     "output_type": "execute_result"
    }
   ],
   "source": [
    "G"
   ]
  },
  {
   "cell_type": "code",
   "execution_count": 5,
   "id": "8738e026-4f48-4c02-b851-e618c844f617",
   "metadata": {},
   "outputs": [],
   "source": [
    "S.<p,G,H,a,b,c,d,A,B> = PolynomialRing(QQ)\n",
    "M=matrix([[0, -1 / p], [1, 0]])\n",
    "W=vector([G,-p*H])\n",
    "T=(1-M)^2\n",
    "K=T.inverse()"
   ]
  },
  {
   "cell_type": "code",
   "execution_count": 102,
   "id": "45b910ec-4c54-4785-ad0d-a6c298285839",
   "metadata": {},
   "outputs": [],
   "source": [
    "T=(1-M)^2\n",
    "W=vector([G+a*H/c, -H/c])"
   ]
  },
  {
   "cell_type": "code",
   "execution_count": 103,
   "id": "72d3816b-e19b-4cf3-9129-f6307d1f32b1",
   "metadata": {},
   "outputs": [
    {
     "data": {
      "text/plain": [
       "((p*H*a + p*G*c - H*a - G*c - 2*H)/(p*c), (-2*p*H*a - 2*p*G*c - p*H + H)/(p*c))"
      ]
     },
     "execution_count": 103,
     "metadata": {},
     "output_type": "execute_result"
    }
   ],
   "source": [
    "T*W"
   ]
  },
  {
   "cell_type": "code",
   "execution_count": 2,
   "id": "da1b8e75-eb64-4f89-9663-8bc0a3df0ac3",
   "metadata": {},
   "outputs": [],
   "source": [
    "M1=matrix([[a,b],[c,d]])\n",
    "R=vector([A,-B])"
   ]
  },
  {
   "cell_type": "code",
   "execution_count": 108,
   "id": "071eea4b-ff9a-409b-968a-354a7833d42b",
   "metadata": {},
   "outputs": [
    {
     "data": {
      "text/plain": [
       "(a^2*A + b*c*A - a*b*B - b*d*B - 2*a*A + 2*b*B + A, a*c*A + c*d*A - b*c*B - d^2*B - 2*c*A + 2*d*B - B)"
      ]
     },
     "execution_count": 108,
     "metadata": {},
     "output_type": "execute_result"
    }
   ],
   "source": [
    "(1-M1)^2 * R"
   ]
  },
  {
   "cell_type": "code",
   "execution_count": 109,
   "id": "64863d7e-1343-4f8c-a7f5-7fdb53a63434",
   "metadata": {},
   "outputs": [],
   "source": [
    "M2=matrix([[0, -1 / p], [1, 0]])\n",
    "R2=vector([A+a*B/c, B/c])"
   ]
  },
  {
   "cell_type": "code",
   "execution_count": 110,
   "id": "edb00a41-c3a6-4d27-900e-637bd54c1960",
   "metadata": {},
   "outputs": [
    {
     "data": {
      "text/plain": [
       "((p*c*A + p*a*B - c*A - a*B + 2*B)/(p*c), (-2*p*c*A - 2*p*a*B + p*B - B)/(p*c))"
      ]
     },
     "execution_count": 110,
     "metadata": {},
     "output_type": "execute_result"
    }
   ],
   "source": [
    "(1-M2)^2 * R2"
   ]
  },
  {
   "cell_type": "code",
   "execution_count": 4,
   "id": "7427c417-479d-4b77-97d1-c2a69366dee5",
   "metadata": {},
   "outputs": [
    {
     "data": {
      "text/plain": [
       "[(b*c + d^2 - 2*d + 1)/(b^2*c^2 - 2*a*b*c*d + a^2*d^2 + 2*a*b*c - 2*a^2*d + 2*b*c*d - 2*a*d^2 + a^2 - 2*b*c + 4*a*d + d^2 - 2*a - 2*d + 1)    (a*b + b*d - 2*b)/(-b^2*c^2 + 2*a*b*c*d - a^2*d^2 - 2*a*b*c + 2*a^2*d - 2*b*c*d + 2*a*d^2 - a^2 + 2*b*c - 4*a*d - d^2 + 2*a + 2*d - 1)]\n",
       "[   (a*c + c*d - 2*c)/(-b^2*c^2 + 2*a*b*c*d - a^2*d^2 - 2*a*b*c + 2*a^2*d - 2*b*c*d + 2*a*d^2 - a^2 + 2*b*c - 4*a*d - d^2 + 2*a + 2*d - 1) (a^2 + b*c - 2*a + 1)/(b^2*c^2 - 2*a*b*c*d + a^2*d^2 + 2*a*b*c - 2*a^2*d + 2*b*c*d - 2*a*d^2 + a^2 - 2*b*c + 4*a*d + d^2 - 2*a - 2*d + 1)]"
      ]
     },
     "execution_count": 4,
     "metadata": {},
     "output_type": "execute_result"
    }
   ],
   "source": [
    "(1-M1)^(-2)"
   ]
  },
  {
   "cell_type": "code",
   "execution_count": 7,
   "id": "b5f5f1bc-f737-464c-9e04-50fc8878801b",
   "metadata": {},
   "outputs": [
    {
     "data": {
      "text/plain": [
       "[(p^2 - p)/(p^2 + 2*p + 1)    (-2*p)/(p^2 + 2*p + 1)]\n",
       "[    2*p^2/(p^2 + 2*p + 1) (p^2 - p)/(p^2 + 2*p + 1)]"
      ]
     },
     "execution_count": 7,
     "metadata": {},
     "output_type": "execute_result"
    }
   ],
   "source": [
    "(1-M)^(-2)"
   ]
  },
  {
   "cell_type": "code",
   "execution_count": 9,
   "id": "0f91c04c-ad4c-4221-b636-e21d871d5404",
   "metadata": {},
   "outputs": [],
   "source": [
    "S.<A,B>=QQ[]\n",
    "E=EllipticCurve([A,B])\n",
    "p=5\n",
    "R=Zmod(p^2)"
   ]
  },
  {
   "cell_type": "code",
   "execution_count": 14,
   "id": "e1f44517-42d3-41c1-a4c7-b855a9f4d13e",
   "metadata": {},
   "outputs": [],
   "source": [
    "f=E.division_polynomial(p+2,two_torsion_multiplicity=1)\n"
   ]
  },
  {
   "cell_type": "code",
   "execution_count": 16,
   "id": "9d7f9e96-6bff-4cce-b80e-e84a401f6a24",
   "metadata": {},
   "outputs": [],
   "source": [
    "T.<t>=Zmod(p^2)[]"
   ]
  },
  {
   "cell_type": "code",
   "execution_count": 18,
   "id": "65917b2f-3ed0-4f1c-bab8-e83470029b33",
   "metadata": {},
   "outputs": [
    {
     "data": {
      "text/plain": [
       "7*x^24 + 308*A*x^22 + 3944*B*x^21 + (-2954*A^2)*x^20 + (-112*A*B)*x^19 + (-19852*A^3 - 42896*B^2)*x^18 + (-92568*A^2*B)*x^17 + (-35231*A^4 - 571872*A*B^2)*x^16 + (-31808*A^3*B - 829696*B^3)*x^15 + (-82264*A^5 - 615360*A^2*B^2)*x^14 + (-161840*A^4*B - 2132480*A*B^3)*x^13 + (-111916*A^6 - 297472*A^3*B^2 - 928256*B^4)*x^12 + (-608160*A^5*B - 2603776*A^2*B^3)*x^11 + (-42168*A^7 - 1192800*A^4*B^2 - 3293696*A*B^4)*x^10 + (-425712*A^6*B - 3727360*A^3*B^3 - 1555456*B^5)*x^9 + (15673*A^8 - 831936*A^5*B^2 - 7069440*A^2*B^4)*x^8 + (-53824*A^7*B - 1314560*A^4*B^3 - 7127040*A*B^5)*x^7 + (14756*A^9 - 190400*A^6*B^2 - 2293760*A^3*B^4 - 2809856*B^6)*x^6 + (57288*A^8*B - 168448*A^5*B^3 - 3698688*A^2*B^5)*x^5 + (1302*A^10 + 134400*A^7*B^2 + 394240*A^4*B^4 - 3039232*A*B^6)*x^4 + (1680*A^9*B + 152320*A^6*B^3 + 831488*A^3*B^5 - 802816*B^7)*x^3 + (196*A^11 + 3696*A^8*B^2 + 96768*A^5*B^4 + 544768*A^2*B^6)*x^2 + (392*A^10*B + 7168*A^7*B^3 + 64512*A^4*B^5 + 229376*A*B^7)*x - A^12 + 160*A^9*B^2 + 3328*A^6*B^4 + 24576*A^3*B^6 + 65536*B^8"
      ]
     },
     "execution_count": 18,
     "metadata": {},
     "output_type": "execute_result"
    }
   ],
   "source": [
    "f"
   ]
  },
  {
   "cell_type": "markdown",
   "id": "e0c0adc2-919f-477b-b71c-668d6951a842",
   "metadata": {},
   "source": [
    "# p-adic Logarithm"
   ]
  },
  {
   "cell_type": "code",
   "execution_count": 25,
   "id": "a92b2baa-91ef-4c5f-8780-79f5c64a9f2b",
   "metadata": {},
   "outputs": [],
   "source": [
    "p=5\n",
    "phi=[1]\n",
    "R.<T>=Qp(5)[]\n",
    "for n in range(1,7):\n",
    "    phi=phi+[R(cyclotomic_polynomial(p^n))]\n"
   ]
  },
  {
   "cell_type": "code",
   "execution_count": 28,
   "id": "16e6e59a-4f04-4b75-b3ea-d68ebc2bb62d",
   "metadata": {},
   "outputs": [
    {
     "data": {
      "text/plain": [
       "(4 + 3*5 + 5^2 + 3*5^3 + 2*5^4 + 2*5^5 + 2*5^6 + 5^7 + 4*5^8 + 4*5^11 + 4*5^12 + 2*5^13 + 3*5^14 + O(5^18))*T^3 + (4 + 2*5 + 4*5^2 + 3*5^3 + 4*5^4 + 5^5 + 5^6 + 4*5^7 + 3*5^9 + O(5^18))*T^2 + (2 + 2*5^2 + 2*5^4 + O(5^18))*T + 5^-1 + O(5^18)"
      ]
     },
     "execution_count": 28,
     "metadata": {},
     "output_type": "execute_result"
    }
   ],
   "source": [
    "((phi[2](1+T)/p)*(phi[4](1+T)/p)/p*(phi[6](1+T)/p)%(T^4))"
   ]
  },
  {
   "cell_type": "code",
   "execution_count": 10,
   "id": "23ad4472-2dcd-425c-94e1-02f0dabbb3ba",
   "metadata": {},
   "outputs": [
    {
     "data": {
      "text/plain": [
       "T^20 + T^15 + T^10 + T^5 + 1"
      ]
     },
     "execution_count": 10,
     "metadata": {},
     "output_type": "execute_result"
    }
   ],
   "source": [
    "R(cyclotomic_polynomial(p))"
   ]
  },
  {
   "cell_type": "code",
   "execution_count": 9,
   "id": "aaa81d16-0b8d-4dd7-a593-9e2d39db583c",
   "metadata": {},
   "outputs": [],
   "source": [
    "def logplus(p,k):\n",
    "    R.<T>=Qp(p)[]\n",
    "    partial_product=1\n",
    "    for n in range(1,k):\n",
    "        phi = R(cyclotomic_polynomial(p^(2*n)))\n",
    "        phi_sub=phi(1+T)%(T^2)\n",
    "        partial_product *= phi_sub/ p\n",
    "    return(partial_product%(T^2))"
   ]
  },
  {
   "cell_type": "code",
   "execution_count": 11,
   "id": "da4fc18b-f86f-456c-8e75-918e1d926766",
   "metadata": {},
   "outputs": [
    {
     "data": {
      "text/plain": [
       "(2*5 + 2*5^3 + 2*5^5 + O(5^19))*T + 1 + O(5^19)"
      ]
     },
     "execution_count": 11,
     "metadata": {},
     "output_type": "execute_result"
    }
   ],
   "source": [
    "logplus(5,4)"
   ]
  },
  {
   "cell_type": "code",
   "execution_count": 15,
   "id": "f6649a8f-16f6-44ad-ad02-58439adb113f",
   "metadata": {},
   "outputs": [
    {
     "data": {
      "text/plain": [
       "x^312500 + x^234375 + x^156250 + x^78125 + 1"
      ]
     },
     "execution_count": 15,
     "metadata": {},
     "output_type": "execute_result"
    }
   ],
   "source": [
    "p=5\n",
    "n=4\n",
    "R.<T>=Qp(p)[]\n",
    "phi = cyclotomic_polynomial(p^(2*n))\n",
    "phi"
   ]
  },
  {
   "cell_type": "code",
   "execution_count": null,
   "id": "f2a2b0ea-291c-4d92-961e-8938b53af41c",
   "metadata": {},
   "outputs": [],
   "source": []
  }
 ],
 "metadata": {
  "kernelspec": {
   "display_name": "SageMath 10.4",
   "language": "sage",
   "name": "sagemath"
  },
  "language_info": {
   "codemirror_mode": {
    "name": "ipython",
    "version": 3
   },
   "file_extension": ".py",
   "mimetype": "text/x-python",
   "name": "python",
   "nbconvert_exporter": "python",
   "pygments_lexer": "ipython3",
   "version": "3.12.6"
  }
 },
 "nbformat": 4,
 "nbformat_minor": 5
}
